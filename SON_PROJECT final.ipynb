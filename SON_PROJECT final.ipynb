{
 "cells": [
  {
   "cell_type": "code",
   "execution_count": 1,
   "id": "601ecde3",
   "metadata": {
    "id": "601ecde3"
   },
   "outputs": [],
   "source": [
    "import pandas as pd\n",
    "import numpy as np"
   ]
  },
  {
   "cell_type": "code",
   "execution_count": 2,
   "id": "6fc9cc03",
   "metadata": {
    "id": "6fc9cc03"
   },
   "outputs": [],
   "source": [
    "def display_periodic_table(element):\n",
    "    print()\n",
    "    print()\n",
    "    print(\"                     --------- MODERN PERIODIC TABLE -----------             \\n\\n\")\n",
    "    print(\"┌────┐                                                                               ┌────┐\")\n",
    "    print(\"│ {0}  │                                                                               │ {1} │\".format(element[1],element[2]))\n",
    "    print(\"├────┼────┐                                                 ┌────┬────┬────┬────┬────┼────┤\")\n",
    "    print(\"│ {0} │ {1} │                                                 │ {2}  │ {3}  │ {4}  │ {5}  │ {6}  │ {7} │\".format(element[3],element[4],element[5],element[6],element[7],element[8],element[9],element[10]))\n",
    "    print(\"├────┼────┤                                                 ├────┼────┤────┼────┤────┼────┤\")\n",
    "    print(\"│ {0} │ {1} │                                                 │ {2} │ {3} │ {4}  │ {5}  │ {6} │ {7} │\".format(element[11],element[12],element[13],element[14],element[15],element[16],element[17],element[18]))\n",
    "    print(\"├────┼────┼────┬────┬────┬────┬────┬────┬────┬────┬────┬────┼────┼────┼────┼────┼────┼────┤\")\n",
    "    print(\"│ {0}  │ {1} │ {2} │ {3} │ {4}  │ {5} │ {6} │ {7} │ {8} │ {9} │ {10} │ {11} │ {12} │ {13} │ {14} │ {15} │ {16} │ {17} │\".format(element[19],element[20],element[21],element[22],element[23],element[24],element[25],element[26],element[27],element[28],element[29],element[30],element[31],element[32],element[33],element[34],element[35],element[36]))\n",
    "    print(\"├────┼────┼────┼────┼────┼────┼────┼────┼────┼────┼────┼────┼────┼────┼────┼────┼────┼────┤\")\n",
    "    print(\"│ {0} │ {1} │ {2}  │ {3} │ {4} │ {5} │ {6} │ {7} │ {8} │ {9} │ {10} │ {11} │ {12} │ {13} │ {14} │ {15} │ {16}  │ {17} │\".format(element[37],element[38],element[39],element[40],element[41],element[42],element[43],element[44],element[45],element[46],element[47],element[48],element[49],element[50],element[51],element[52],element[53],element[54]))\n",
    "    print(\"├────┼────┼────┼────┼────┼────┼────┼────┼────┼────┼────┼────┼────┼────┼────┼────┼────┼────┤\")\n",
    "    print(\"│ {0} │ {1} │{2}│ {3} │ {4} │ {5}  │ {6} │ {7} │ {8} │ {9} │ {10} │ {11} │ {12} │ {13} │ {14} │ {15} │ {16} │ {17} │\".format(element[55],element[56],\"LaLu\",element[72],element[73],element[74],element[75],element[76],element[77],element[78],element[79],element[80],element[81],element[82],element[83],element[84],element[85],element[86]))\n",
    "    print(\"├────┼────┼────┼────┼────┼────┼────┼────┼────┼────┼────┼────┼────┼────┼────┼────┼────┼────┤\")\n",
    "    print(\"│ {0} │ {1} │{2}│ {3} │ {4} │ {5} │ {6} │ {7} │ {8} │ {9} │ {10} │ {11} │ {12}│ {13}│ {14}│ {15}│ {16}│ {17}│\".format(element[87],element[88],\"AcLr\",element[104],element[105],element[106],element[107],element[108],element[109],element[110],element[111],element[112],element[113],element[114],element[115],element[116],element[117],element[118]))\n",
    "    print(\"└────┴────┴────┴────┴────┴────┴────┴────┴────┴────┴────┴────┴────┴────┴────┴────┴────┴────┘\")\n",
    "    print()\n",
    "    print(\"       ┌────┬────┬────┬────┬────┬────┬────┬────┬────┬────┬────┬────┬────┬────┬────┐\")\n",
    "    print(\"       │ {0} │ {1} │ {2} │ {3} │ {4} │ {5} │ {6} │ {7} │ {8} │ {9} │ {10} │ {11} │ {12} │ {13} │ {14} │\".format(element[57],element[58],element[59],element[60],element[61],element[62],element[63],element[64],element[65],element[66],element[67],element[68],element[69],element[70],element[71]))\n",
    "    print(\"       ├────┼────┼────┼────┼────┼────┼────┼────┼────┼────┼────┼────┼────┼────┼────┤\")\n",
    "    print(\"       │ {0} │ {1} │ {2} │ {3}  │ {4} │ {5} │ {6} │ {7} │ {8} │ {9} │ {10} │ {11} │ {12} │ {13} │ {14} │\".format(element[89],element[90],element[91],element[92],element[93],element[94],element[95],element[96],element[97],element[98],element[99],element[100],element[101],element[102],element[103]))\n",
    "    print(\"       └────┴────┴────┴────┴────┴────┴────┴────┴────┴────┴────┴────┴────┴────┴────┘\")\n",
    "    print()\n",
    "    print()"
   ]
  },
  {
   "cell_type": "code",
   "execution_count": 3,
   "id": "2dfba8d6",
   "metadata": {
    "id": "2dfba8d6"
   },
   "outputs": [
    {
     "ename": "UnicodeDecodeError",
     "evalue": "'utf-8' codec can't decode byte 0xff in position 1037: invalid start byte",
     "output_type": "error",
     "traceback": [
      "\u001b[1;31m---------------------------------------------------------------------------\u001b[0m",
      "\u001b[1;31mUnicodeDecodeError\u001b[0m                        Traceback (most recent call last)",
      "Cell \u001b[1;32mIn[3], line 2\u001b[0m\n\u001b[0;32m      1\u001b[0m data \u001b[38;5;241m=\u001b[39m pd\u001b[38;5;241m.\u001b[39mread_csv(\u001b[38;5;124m\"\u001b[39m\u001b[38;5;124matomic_data.csv\u001b[39m\u001b[38;5;124m\"\u001b[39m)\n\u001b[1;32m----> 2\u001b[0m df \u001b[38;5;241m=\u001b[39m pd\u001b[38;5;241m.\u001b[39mread_csv(\u001b[38;5;124m\"\u001b[39m\u001b[38;5;124mEffective_Nuclear_Charge _Sheet.csv\u001b[39m\u001b[38;5;124m\"\u001b[39m)\n",
      "File \u001b[1;32m~\\AppData\\Roaming\\Python\\Python311\\site-packages\\pandas\\io\\parsers\\readers.py:948\u001b[0m, in \u001b[0;36mread_csv\u001b[1;34m(filepath_or_buffer, sep, delimiter, header, names, index_col, usecols, dtype, engine, converters, true_values, false_values, skipinitialspace, skiprows, skipfooter, nrows, na_values, keep_default_na, na_filter, verbose, skip_blank_lines, parse_dates, infer_datetime_format, keep_date_col, date_parser, date_format, dayfirst, cache_dates, iterator, chunksize, compression, thousands, decimal, lineterminator, quotechar, quoting, doublequote, escapechar, comment, encoding, encoding_errors, dialect, on_bad_lines, delim_whitespace, low_memory, memory_map, float_precision, storage_options, dtype_backend)\u001b[0m\n\u001b[0;32m    935\u001b[0m kwds_defaults \u001b[38;5;241m=\u001b[39m _refine_defaults_read(\n\u001b[0;32m    936\u001b[0m     dialect,\n\u001b[0;32m    937\u001b[0m     delimiter,\n\u001b[1;32m   (...)\u001b[0m\n\u001b[0;32m    944\u001b[0m     dtype_backend\u001b[38;5;241m=\u001b[39mdtype_backend,\n\u001b[0;32m    945\u001b[0m )\n\u001b[0;32m    946\u001b[0m kwds\u001b[38;5;241m.\u001b[39mupdate(kwds_defaults)\n\u001b[1;32m--> 948\u001b[0m \u001b[38;5;28;01mreturn\u001b[39;00m _read(filepath_or_buffer, kwds)\n",
      "File \u001b[1;32m~\\AppData\\Roaming\\Python\\Python311\\site-packages\\pandas\\io\\parsers\\readers.py:611\u001b[0m, in \u001b[0;36m_read\u001b[1;34m(filepath_or_buffer, kwds)\u001b[0m\n\u001b[0;32m    608\u001b[0m _validate_names(kwds\u001b[38;5;241m.\u001b[39mget(\u001b[38;5;124m\"\u001b[39m\u001b[38;5;124mnames\u001b[39m\u001b[38;5;124m\"\u001b[39m, \u001b[38;5;28;01mNone\u001b[39;00m))\n\u001b[0;32m    610\u001b[0m \u001b[38;5;66;03m# Create the parser.\u001b[39;00m\n\u001b[1;32m--> 611\u001b[0m parser \u001b[38;5;241m=\u001b[39m TextFileReader(filepath_or_buffer, \u001b[38;5;241m*\u001b[39m\u001b[38;5;241m*\u001b[39mkwds)\n\u001b[0;32m    613\u001b[0m \u001b[38;5;28;01mif\u001b[39;00m chunksize \u001b[38;5;129;01mor\u001b[39;00m iterator:\n\u001b[0;32m    614\u001b[0m     \u001b[38;5;28;01mreturn\u001b[39;00m parser\n",
      "File \u001b[1;32m~\\AppData\\Roaming\\Python\\Python311\\site-packages\\pandas\\io\\parsers\\readers.py:1448\u001b[0m, in \u001b[0;36mTextFileReader.__init__\u001b[1;34m(self, f, engine, **kwds)\u001b[0m\n\u001b[0;32m   1445\u001b[0m     \u001b[38;5;28mself\u001b[39m\u001b[38;5;241m.\u001b[39moptions[\u001b[38;5;124m\"\u001b[39m\u001b[38;5;124mhas_index_names\u001b[39m\u001b[38;5;124m\"\u001b[39m] \u001b[38;5;241m=\u001b[39m kwds[\u001b[38;5;124m\"\u001b[39m\u001b[38;5;124mhas_index_names\u001b[39m\u001b[38;5;124m\"\u001b[39m]\n\u001b[0;32m   1447\u001b[0m \u001b[38;5;28mself\u001b[39m\u001b[38;5;241m.\u001b[39mhandles: IOHandles \u001b[38;5;241m|\u001b[39m \u001b[38;5;28;01mNone\u001b[39;00m \u001b[38;5;241m=\u001b[39m \u001b[38;5;28;01mNone\u001b[39;00m\n\u001b[1;32m-> 1448\u001b[0m \u001b[38;5;28mself\u001b[39m\u001b[38;5;241m.\u001b[39m_engine \u001b[38;5;241m=\u001b[39m \u001b[38;5;28mself\u001b[39m\u001b[38;5;241m.\u001b[39m_make_engine(f, \u001b[38;5;28mself\u001b[39m\u001b[38;5;241m.\u001b[39mengine)\n",
      "File \u001b[1;32m~\\AppData\\Roaming\\Python\\Python311\\site-packages\\pandas\\io\\parsers\\readers.py:1723\u001b[0m, in \u001b[0;36mTextFileReader._make_engine\u001b[1;34m(self, f, engine)\u001b[0m\n\u001b[0;32m   1720\u001b[0m     \u001b[38;5;28;01mraise\u001b[39;00m \u001b[38;5;167;01mValueError\u001b[39;00m(msg)\n\u001b[0;32m   1722\u001b[0m \u001b[38;5;28;01mtry\u001b[39;00m:\n\u001b[1;32m-> 1723\u001b[0m     \u001b[38;5;28;01mreturn\u001b[39;00m mapping[engine](f, \u001b[38;5;241m*\u001b[39m\u001b[38;5;241m*\u001b[39m\u001b[38;5;28mself\u001b[39m\u001b[38;5;241m.\u001b[39moptions)\n\u001b[0;32m   1724\u001b[0m \u001b[38;5;28;01mexcept\u001b[39;00m \u001b[38;5;167;01mException\u001b[39;00m:\n\u001b[0;32m   1725\u001b[0m     \u001b[38;5;28;01mif\u001b[39;00m \u001b[38;5;28mself\u001b[39m\u001b[38;5;241m.\u001b[39mhandles \u001b[38;5;129;01mis\u001b[39;00m \u001b[38;5;129;01mnot\u001b[39;00m \u001b[38;5;28;01mNone\u001b[39;00m:\n",
      "File \u001b[1;32m~\\AppData\\Roaming\\Python\\Python311\\site-packages\\pandas\\io\\parsers\\c_parser_wrapper.py:93\u001b[0m, in \u001b[0;36mCParserWrapper.__init__\u001b[1;34m(self, src, **kwds)\u001b[0m\n\u001b[0;32m     90\u001b[0m \u001b[38;5;28;01mif\u001b[39;00m kwds[\u001b[38;5;124m\"\u001b[39m\u001b[38;5;124mdtype_backend\u001b[39m\u001b[38;5;124m\"\u001b[39m] \u001b[38;5;241m==\u001b[39m \u001b[38;5;124m\"\u001b[39m\u001b[38;5;124mpyarrow\u001b[39m\u001b[38;5;124m\"\u001b[39m:\n\u001b[0;32m     91\u001b[0m     \u001b[38;5;66;03m# Fail here loudly instead of in cython after reading\u001b[39;00m\n\u001b[0;32m     92\u001b[0m     import_optional_dependency(\u001b[38;5;124m\"\u001b[39m\u001b[38;5;124mpyarrow\u001b[39m\u001b[38;5;124m\"\u001b[39m)\n\u001b[1;32m---> 93\u001b[0m \u001b[38;5;28mself\u001b[39m\u001b[38;5;241m.\u001b[39m_reader \u001b[38;5;241m=\u001b[39m parsers\u001b[38;5;241m.\u001b[39mTextReader(src, \u001b[38;5;241m*\u001b[39m\u001b[38;5;241m*\u001b[39mkwds)\n\u001b[0;32m     95\u001b[0m \u001b[38;5;28mself\u001b[39m\u001b[38;5;241m.\u001b[39munnamed_cols \u001b[38;5;241m=\u001b[39m \u001b[38;5;28mself\u001b[39m\u001b[38;5;241m.\u001b[39m_reader\u001b[38;5;241m.\u001b[39munnamed_cols\n\u001b[0;32m     97\u001b[0m \u001b[38;5;66;03m# error: Cannot determine type of 'names'\u001b[39;00m\n",
      "File \u001b[1;32mparsers.pyx:579\u001b[0m, in \u001b[0;36mpandas._libs.parsers.TextReader.__cinit__\u001b[1;34m()\u001b[0m\n",
      "File \u001b[1;32mparsers.pyx:668\u001b[0m, in \u001b[0;36mpandas._libs.parsers.TextReader._get_header\u001b[1;34m()\u001b[0m\n",
      "File \u001b[1;32mparsers.pyx:879\u001b[0m, in \u001b[0;36mpandas._libs.parsers.TextReader._tokenize_rows\u001b[1;34m()\u001b[0m\n",
      "File \u001b[1;32mparsers.pyx:890\u001b[0m, in \u001b[0;36mpandas._libs.parsers.TextReader._check_tokenize_status\u001b[1;34m()\u001b[0m\n",
      "File \u001b[1;32mparsers.pyx:2050\u001b[0m, in \u001b[0;36mpandas._libs.parsers.raise_parser_error\u001b[1;34m()\u001b[0m\n",
      "\u001b[1;31mUnicodeDecodeError\u001b[0m: 'utf-8' codec can't decode byte 0xff in position 1037: invalid start byte"
     ]
    }
   ],
   "source": [
    "data = pd.read_csv(\"atomic_data.csv\")\n",
    "df = pd.read_csv(\"Effective_Nuclear_Charge _Sheet.csv\")"
   ]
  },
  {
   "cell_type": "code",
   "execution_count": null,
   "id": "3baa421e",
   "metadata": {
    "colab": {
     "base_uri": "https://localhost:8080/",
     "height": 206
    },
    "id": "3baa421e",
    "outputId": "f9547cf1-b92b-4f04-ce74-f7a025763f87"
   },
   "outputs": [],
   "source": [
    "df.head()"
   ]
  },
  {
   "cell_type": "code",
   "execution_count": null,
   "id": "e61fe0aa",
   "metadata": {
    "colab": {
     "base_uri": "https://localhost:8080/",
     "height": 206
    },
    "id": "e61fe0aa",
    "outputId": "5add5993-48ee-482f-a171-d2a0d77007a2"
   },
   "outputs": [],
   "source": [
    "data.head()"
   ]
  },
  {
   "cell_type": "code",
   "execution_count": 4,
   "id": "32b1455c",
   "metadata": {
    "colab": {
     "base_uri": "https://localhost:8080/"
    },
    "id": "32b1455c",
    "outputId": "c4284f1a-9626-45e0-ebf3-9cb9cde25291"
   },
   "outputs": [
    {
     "data": {
      "text/plain": [
       "(118, 7)"
      ]
     },
     "execution_count": 4,
     "metadata": {},
     "output_type": "execute_result"
    }
   ],
   "source": [
    "data.shape"
   ]
  },
  {
   "cell_type": "code",
   "execution_count": 5,
   "id": "b33c7ac7",
   "metadata": {
    "id": "b33c7ac7"
   },
   "outputs": [],
   "source": [
    "l = data['element_symbol'].to_list()\n",
    "l.insert(0, \"\")"
   ]
  },
  {
   "cell_type": "code",
   "execution_count": 6,
   "id": "7308f059",
   "metadata": {
    "colab": {
     "base_uri": "https://localhost:8080/"
    },
    "id": "7308f059",
    "outputId": "b70b6576-1cc0-4e28-8cdf-4bafc7574a84",
    "scrolled": true
   },
   "outputs": [
    {
     "name": "stdout",
     "output_type": "stream",
     "text": [
      "\n",
      "\n",
      "                     --------- MODERN PERIODIC TABLE -----------             \n",
      "\n",
      "\n",
      "┌────┐                                                                               ┌────┐\n",
      "│ H  │                                                                               │ He │\n",
      "├────┼────┐                                                 ┌────┬────┬────┬────┬────┼────┤\n",
      "│ Li │ Be │                                                 │ B  │ C  │ N  │ O  │ F  │ Ne │\n",
      "├────┼────┤                                                 ├────┼────┤────┼────┤────┼────┤\n",
      "│ Na │ Mg │                                                 │ Al │ Si │ P  │ S  │ Cl │ Ar │\n",
      "├────┼────┼────┬────┬────┬────┬────┬────┬────┬────┬────┬────┼────┼────┼────┼────┼────┼────┤\n",
      "│ K  │ Ca │ Sc │ Ti │ V  │ Cr │ Mn │ Fe │ Co │ Ni │ Cu │ Zn │ Ga │ Ge │ As │ Se │ Br │ Kr │\n",
      "├────┼────┼────┼────┼────┼────┼────┼────┼────┼────┼────┼────┼────┼────┼────┼────┼────┼────┤\n",
      "│ Rb │ Sr │ Y  │ Zr │ Nb │ Mo │ Tc │ Ru │ Rh │ Pd │ Ag │ Cd │ In │ Sn │ Sb │ Te │ I  │ Xe │\n",
      "├────┼────┼────┼────┼────┼────┼────┼────┼────┼────┼────┼────┼────┼────┼────┼────┼────┼────┤\n",
      "│ Cs │ Ba │LaLu│ Hf │ Ta │ W  │ Re │ Os │ Ir │ Pt │ Au │ Hg │ Tl │ Pb │ Bi │ Po │ At │ Rn │\n",
      "├────┼────┼────┼────┼────┼────┼────┼────┼────┼────┼────┼────┼────┼────┼────┼────┼────┼────┤\n",
      "│ Fr │ Ra │AcLr│ Rf │ Db │ Sg │ Bh │ Hs │ Mt │ Ds │ Rg │ Cn │ Uut│ Uuq│ Uup│ Uuh│ Uus│ Uuo│\n",
      "└────┴────┴────┴────┴────┴────┴────┴────┴────┴────┴────┴────┴────┴────┴────┴────┴────┴────┘\n",
      "\n",
      "       ┌────┬────┬────┬────┬────┬────┬────┬────┬────┬────┬────┬────┬────┬────┬────┐\n",
      "       │ La │ Ce │ Pr │ Nd │ Pm │ Sm │ Eu │ Gd │ Tb │ Dy │ Ho │ Er │ Tm │ Yb │ Lu │\n",
      "       ├────┼────┼────┼────┼────┼────┼────┼────┼────┼────┼────┼────┼────┼────┼────┤\n",
      "       │ Ac │ Th │ Pa │ U  │ Np │ Pu │ Am │ Cm │ Bk │ Cf │ Es │ Fm │ Md │ No │ Lr │\n",
      "       └────┴────┴────┴────┴────┴────┴────┴────┴────┴────┴────┴────┴────┴────┴────┘\n",
      "\n",
      "\n",
      "Enter the Atomic Symbol : N\n",
      "Enter the electron type : 1s\n"
     ]
    },
    {
     "ename": "NameError",
     "evalue": "name 'df' is not defined",
     "output_type": "error",
     "traceback": [
      "\u001b[1;31m---------------------------------------------------------------------------\u001b[0m",
      "\u001b[1;31mNameError\u001b[0m                                 Traceback (most recent call last)",
      "Cell \u001b[1;32mIn[6], line 12\u001b[0m\n\u001b[0;32m      9\u001b[0m     atomic_name \u001b[38;5;241m=\u001b[39m \u001b[38;5;28mstr\u001b[39m(data[\u001b[38;5;124m'\u001b[39m\u001b[38;5;124melement_name\u001b[39m\u001b[38;5;124m'\u001b[39m][i])\n\u001b[0;32m     11\u001b[0m found_data \u001b[38;5;241m=\u001b[39m \u001b[38;5;28;01mNone\u001b[39;00m\n\u001b[1;32m---> 12\u001b[0m \u001b[38;5;28;01mfor\u001b[39;00m i \u001b[38;5;129;01min\u001b[39;00m \u001b[38;5;28mrange\u001b[39m(\u001b[38;5;28mlen\u001b[39m(df)):\n\u001b[0;32m     13\u001b[0m     at \u001b[38;5;241m=\u001b[39m \u001b[38;5;28mstr\u001b[39m(df[\u001b[38;5;124m'\u001b[39m\u001b[38;5;124mElement_Name\u001b[39m\u001b[38;5;124m'\u001b[39m][i])\n\u001b[0;32m     14\u001b[0m     \u001b[38;5;28;01mif\u001b[39;00m at \u001b[38;5;241m==\u001b[39m atomic_name:\n",
      "\u001b[1;31mNameError\u001b[0m: name 'df' is not defined"
     ]
    }
   ],
   "source": [
    "display_periodic_table(l)\n",
    "\n",
    "atom = input(\"Enter the Atomic Symbol : \")\n",
    "conf = input(\"Enter the electron type : \")\n",
    "atomic_name = \"\"\n",
    "\n",
    "for i in range(118):\n",
    "  if(data['element_symbol'][i]==atom):\n",
    "    atomic_name = str(data['element_name'][i])\n",
    "\n",
    "found_data = None\n",
    "for i in range(len(df)):\n",
    "    at = str(df['Element_Name'][i])\n",
    "    if at == atomic_name:\n",
    "        for j in range(i,i+7):\n",
    "            cf = str(df['Electron_Type'][j])\n",
    "            if cf == conf:\n",
    "                found_data = df.iloc[j]\n",
    "                break\n",
    "        break\n",
    "\n",
    "indx = data.index[data['element_symbol']== atom].tolist()[0]\n",
    "\n",
    "print(\"----------------------------\"),\n",
    "print(\"\\tDescription\")\n",
    "print(\"----------------------------\")\n",
    "print(\"Atomic Number : \",data['atomic_number'][indx])\n",
    "print(\"Atomic Symbol : \",data['element_symbol'][indx])\n",
    "print(\"Element Name  : \",data['element_name'][indx])\n",
    "print(\"Property      : \",data['property'][indx])\n",
    "\n",
    "if found_data is not None:\n",
    "    effective_nuclear_charge = found_data['Effective Nuclear Charge (Zeff)']\n",
    "    print(f\"Nuclear Charge:  {effective_nuclear_charge}\")\n",
    "else:\n",
    "    print(f\"Error :: Give correct set of atomic name and its configuration to find its nuclear charge\")\n"
   ]
  },
  {
   "cell_type": "code",
   "execution_count": 10,
   "id": "552681c4",
   "metadata": {
    "colab": {
     "base_uri": "https://localhost:8080/"
    },
    "id": "552681c4",
    "outputId": "74e7b5a3-8c51-493b-bf1b-8743eea3357c"
   },
   "outputs": [
    {
     "name": "stdout",
     "output_type": "stream",
     "text": [
      "┌───┐\n",
      "│ H │\n",
      "├───┼\n"
     ]
    }
   ],
   "source": [
    "print(\"┌───┐\")\n",
    "print(\"│ {0} │\".format('H'))\n",
    "print(\"├───┼\")"
   ]
  },
  {
   "cell_type": "code",
   "execution_count": null,
   "id": "30a0a046",
   "metadata": {
    "id": "30a0a046"
   },
   "outputs": [],
   "source": []
  },
  {
   "cell_type": "code",
   "execution_count": null,
   "id": "74274265",
   "metadata": {
    "id": "74274265"
   },
   "outputs": [],
   "source": []
  }
 ],
 "metadata": {
  "colab": {
   "provenance": []
  },
  "kernelspec": {
   "display_name": "Python 3 (ipykernel)",
   "language": "python",
   "name": "python3"
  },
  "language_info": {
   "codemirror_mode": {
    "name": "ipython",
    "version": 3
   },
   "file_extension": ".py",
   "mimetype": "text/x-python",
   "name": "python",
   "nbconvert_exporter": "python",
   "pygments_lexer": "ipython3",
   "version": "3.11.4"
  }
 },
 "nbformat": 4,
 "nbformat_minor": 5
}
